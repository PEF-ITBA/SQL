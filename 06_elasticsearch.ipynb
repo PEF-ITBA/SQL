{
 "cells": [
  {
   "cell_type": "markdown",
   "metadata": {},
   "source": [
    "# Instalación con docker\n",
    "\n",
    "docker pull docker.elastic.co/elasticsearch/elasticsearch:7.15.2\n",
    "\n",
    "docker run -p 127.0.0.1:9200:9200 -p 127.0.0.1:9300:9300 -e \"discovery.type=single-node\" -v /Users/julian/Documents/repos/SQL/data/elasticsearch:/usr/share/elasticsearch/data docker.elastic.co/elasticsearch/elasticsearch:7.15.2\n",
    "\n"
   ]
  },
  {
   "cell_type": "markdown",
   "metadata": {},
   "source": [
    "# !pip install elasticsearch-dsl"
   ]
  },
  {
   "cell_type": "code",
   "execution_count": 2,
   "metadata": {},
   "outputs": [],
   "source": [
    "from elasticsearch_dsl import connections, Document, Document, Keyword, Integer, Index"
   ]
  },
  {
   "cell_type": "code",
   "execution_count": 18,
   "metadata": {},
   "outputs": [],
   "source": [
    "es = connections.create_connection(\n",
    "    alias=\"default\",\n",
    "    hosts=['http://127.0.0.1:9200'],\n",
    "    timeout=1000,\n",
    "    retry_on_timeout=True,\n",
    "    max_retries=10,\n",
    "    verify_certs=False\n",
    ")"
   ]
  },
  {
   "cell_type": "code",
   "execution_count": 19,
   "metadata": {},
   "outputs": [],
   "source": [
    "class User(Document):\n",
    "    name = Keyword()\n",
    "    address = Keyword()\n",
    "    age = Integer()\n",
    "    \n",
    "    class Index:\n",
    "        name = 'users'\n",
    "        settings = {\n",
    "            'number_of_shards': 1,\n",
    "            'number_of_replicas': 0\n",
    "        }"
   ]
  },
  {
   "cell_type": "code",
   "execution_count": 20,
   "metadata": {},
   "outputs": [],
   "source": [
    "User.init()"
   ]
  },
  {
   "cell_type": "code",
   "execution_count": 21,
   "metadata": {},
   "outputs": [],
   "source": [
    "# Creación de usuario\n",
    "user1 = User(name='Pedro Martinez', address='Alsina 1234', age=45)\n",
    "user2 = User(name='Marina Gomez', address='Libertad 4321', age=83)"
   ]
  },
  {
   "cell_type": "code",
   "execution_count": null,
   "metadata": {},
   "outputs": [],
   "source": []
  },
  {
   "cell_type": "code",
   "execution_count": 22,
   "metadata": {},
   "outputs": [
    {
     "data": {
      "text/plain": [
       "'created'"
      ]
     },
     "execution_count": 22,
     "metadata": {},
     "output_type": "execute_result"
    }
   ],
   "source": [
    "# Guardo Usuario\n",
    "user1.save()\n",
    "user2.save()"
   ]
  },
  {
   "cell_type": "code",
   "execution_count": 23,
   "metadata": {},
   "outputs": [
    {
     "data": {
      "text/plain": [
       "2"
      ]
     },
     "execution_count": 23,
     "metadata": {},
     "output_type": "execute_result"
    }
   ],
   "source": [
    "User.search().count()"
   ]
  },
  {
   "cell_type": "code",
   "execution_count": 30,
   "metadata": {},
   "outputs": [],
   "source": [
    "users = User.search().filter().execute()"
   ]
  },
  {
   "cell_type": "code",
   "execution_count": 31,
   "metadata": {},
   "outputs": [
    {
     "data": {
      "text/plain": [
       "False"
      ]
     },
     "execution_count": 31,
     "metadata": {},
     "output_type": "execute_result"
    }
   ],
   "source": [
    "users.timed_out"
   ]
  },
  {
   "cell_type": "code",
   "execution_count": 32,
   "metadata": {},
   "outputs": [
    {
     "name": "stdout",
     "output_type": "stream",
     "text": [
      "{'name': 'Pedro Martinez', 'address': 'Alsina 1234', 'age': 45} 0e1ReH0B71PntoApWV8c\n",
      "{'name': 'Marina Gomez', 'address': 'Libertad 4321', 'age': 83} 0u1ReH0B71PntoApWV8q\n",
      "{'name': 'Maria Diaz', 'address': 'Guayra 2323', 'age': 21, 'gender': 'M'} 0-1SeH0B71PntoApFl-6\n"
     ]
    }
   ],
   "source": [
    "for u in users:\n",
    "    print(u.to_dict(), u.meta.id)"
   ]
  },
  {
   "cell_type": "code",
   "execution_count": 10,
   "metadata": {},
   "outputs": [
    {
     "data": {
      "text/plain": [
       "{'index': 'users',\n",
       " 'id': '0O1LeH0B71PntoApPl--',\n",
       " 'score': 0.0,\n",
       " 'doc_type': '_doc'}"
      ]
     },
     "execution_count": 10,
     "metadata": {},
     "output_type": "execute_result"
    }
   ],
   "source": [
    "u.meta.to_dict()"
   ]
  },
  {
   "cell_type": "code",
   "execution_count": 24,
   "metadata": {},
   "outputs": [
    {
     "data": {
      "text/plain": [
       "{'users': {'mappings': {'properties': {'address': {'type': 'keyword'},\n",
       "    'age': {'type': 'integer'},\n",
       "    'name': {'type': 'keyword'}}}}}"
      ]
     },
     "execution_count": 24,
     "metadata": {},
     "output_type": "execute_result"
    }
   ],
   "source": [
    "Index('users').get_mapping()"
   ]
  },
  {
   "cell_type": "code",
   "execution_count": 25,
   "metadata": {},
   "outputs": [],
   "source": [
    "# Si no lo tiene configurado lo infiere 'gender'\n",
    "user3 = User(name='Maria Diaz', address='Guayra 2323', age=21, gender='M')"
   ]
  },
  {
   "cell_type": "code",
   "execution_count": 26,
   "metadata": {},
   "outputs": [
    {
     "data": {
      "text/plain": [
       "'created'"
      ]
     },
     "execution_count": 26,
     "metadata": {},
     "output_type": "execute_result"
    }
   ],
   "source": [
    "user3.save()"
   ]
  },
  {
   "cell_type": "code",
   "execution_count": 29,
   "metadata": {},
   "outputs": [
    {
     "name": "stdout",
     "output_type": "stream",
     "text": [
      "{'name': 'Pedro Martinez', 'address': 'Alsina 1234', 'age': 45} z-1LeH0B71PntoApPl9L\n",
      "{'name': 'Marina Gomez', 'address': 'Libertad 4321', 'age': 83} 0O1LeH0B71PntoApPl--\n"
     ]
    }
   ],
   "source": [
    "for u in users:\n",
    "    print(u.to_dict(), u.meta.id)"
   ]
  },
  {
   "cell_type": "code",
   "execution_count": 28,
   "metadata": {},
   "outputs": [
    {
     "data": {
      "text/plain": [
       "{'users': {'mappings': {'properties': {'address': {'type': 'keyword'},\n",
       "    'age': {'type': 'integer'},\n",
       "    'gender': {'type': 'text',\n",
       "     'fields': {'keyword': {'type': 'keyword', 'ignore_above': 256}}},\n",
       "    'name': {'type': 'keyword'}}}}}"
      ]
     },
     "execution_count": 28,
     "metadata": {},
     "output_type": "execute_result"
    }
   ],
   "source": [
    "Index('users').get_mapping()"
   ]
  },
  {
   "cell_type": "code",
   "execution_count": null,
   "metadata": {},
   "outputs": [],
   "source": []
  }
 ],
 "metadata": {
  "kernelspec": {
   "display_name": "Python 3",
   "language": "python",
   "name": "python3"
  },
  "language_info": {
   "codemirror_mode": {
    "name": "ipython",
    "version": 3
   },
   "file_extension": ".py",
   "mimetype": "text/x-python",
   "name": "python",
   "nbconvert_exporter": "python",
   "pygments_lexer": "ipython3",
   "version": "3.8.5"
  }
 },
 "nbformat": 4,
 "nbformat_minor": 4
}
