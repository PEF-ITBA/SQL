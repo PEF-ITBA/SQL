{
 "cells": [
  {
   "cell_type": "code",
   "execution_count": 2,
   "metadata": {},
   "outputs": [
    {
     "name": "stdout",
     "output_type": "stream",
     "text": [
      "Collecting mongoengine\n",
      "  Downloading mongoengine-0.23.1-py3-none-any.whl (107 kB)\n",
      "\u001b[K     |████████████████████████████████| 107 kB 2.5 MB/s eta 0:00:01\n",
      "\u001b[?25hCollecting pymongo<4.0,>=3.4\n",
      "  Downloading pymongo-3.12.2-cp38-cp38-macosx_10_9_x86_64.whl (395 kB)\n",
      "\u001b[K     |████████████████████████████████| 395 kB 14.2 MB/s eta 0:00:01\n",
      "\u001b[?25hInstalling collected packages: pymongo, mongoengine\n",
      "  Attempting uninstall: pymongo\n",
      "    Found existing installation: pymongo 4.0\n",
      "    Uninstalling pymongo-4.0:\n",
      "      Successfully uninstalled pymongo-4.0\n",
      "Successfully installed mongoengine-0.23.1 pymongo-3.12.2\n"
     ]
    }
   ],
   "source": [
    "# ! pip install mongoengine"
   ]
  },
  {
   "cell_type": "code",
   "execution_count": 3,
   "metadata": {},
   "outputs": [],
   "source": [
    "from mongoengine import connect"
   ]
  },
  {
   "cell_type": "code",
   "execution_count": 4,
   "metadata": {},
   "outputs": [],
   "source": [
    "db_name = 'db_test'"
   ]
  },
  {
   "cell_type": "code",
   "execution_count": 5,
   "metadata": {},
   "outputs": [
    {
     "data": {
      "text/plain": [
       "MongoClient(host=['localhost:27017'], document_class=dict, tz_aware=False, connect=True, read_preference=Primary())"
      ]
     },
     "execution_count": 5,
     "metadata": {},
     "output_type": "execute_result"
    }
   ],
   "source": [
    "connect(db_name, host='localhost', port=27017)"
   ]
  },
  {
   "cell_type": "code",
   "execution_count": 6,
   "metadata": {},
   "outputs": [],
   "source": [
    "from mongoengine import *\n",
    "import datetime\n",
    "\n",
    "class User(Document):\n",
    "    name = StringField(max_length=200, required=True)\n",
    "    address = StringField(max_length=200, required=True)\n",
    "    age = IntField()"
   ]
  },
  {
   "cell_type": "code",
   "execution_count": 7,
   "metadata": {},
   "outputs": [],
   "source": [
    "u = User(name='Julian', address='Montaneses 3150')"
   ]
  },
  {
   "cell_type": "code",
   "execution_count": 8,
   "metadata": {},
   "outputs": [
    {
     "data": {
      "text/plain": [
       "<User: User object>"
      ]
     },
     "execution_count": 8,
     "metadata": {},
     "output_type": "execute_result"
    }
   ],
   "source": [
    "u.save()"
   ]
  },
  {
   "cell_type": "code",
   "execution_count": 17,
   "metadata": {},
   "outputs": [
    {
     "name": "stdout",
     "output_type": "stream",
     "text": [
      "{\"_id\": {\"$oid\": \"61a7c06a294c308a57ba454c\"}, \"name\": \"John\", \"address\": \"Highway 37\", \"age\": 33}\n",
      "{\"_id\": {\"$oid\": \"61a7c07a294c308a57ba454d\"}, \"name\": \"Amy\", \"address\": \"Apple st 652\"}\n",
      "{\"_id\": {\"$oid\": \"61a7c07a294c308a57ba454e\"}, \"name\": \"Hannah\", \"address\": \"Mountain 21\"}\n",
      "{\"_id\": {\"$oid\": \"61a7c07a294c308a57ba454f\"}, \"name\": \"Michael\", \"address\": \"Valley 345\"}\n",
      "{\"_id\": {\"$oid\": \"61a7c07a294c308a57ba4550\"}, \"name\": \"Sandy\", \"address\": \"Ocean blvd 2\"}\n",
      "{\"_id\": {\"$oid\": \"61a7c07a294c308a57ba4551\"}, \"name\": \"Betty\", \"address\": \"Green Grass 1\"}\n",
      "{\"_id\": {\"$oid\": \"61a7c07a294c308a57ba4552\"}, \"name\": \"Richard\", \"address\": \"Sky st 331\"}\n",
      "{\"_id\": {\"$oid\": \"61a7c07a294c308a57ba4553\"}, \"name\": \"Susan\", \"address\": \"One way 98\"}\n",
      "{\"_id\": {\"$oid\": \"61a7c07a294c308a57ba4554\"}, \"name\": \"Vicky\", \"address\": \"Yellow Garden 2\"}\n",
      "{\"_id\": {\"$oid\": \"61a7c07a294c308a57ba4555\"}, \"name\": \"Ben\", \"address\": \"Park Lane 38\"}\n",
      "{\"_id\": {\"$oid\": \"61a7c07a294c308a57ba4556\"}, \"name\": \"William\", \"address\": \"Central st 954\"}\n",
      "{\"_id\": {\"$oid\": \"61a7c07a294c308a57ba4557\"}, \"name\": \"Chuck\", \"address\": \"Main Road 989\"}\n",
      "{\"_id\": {\"$oid\": \"61a7c07a294c308a57ba4558\"}, \"name\": \"Viola\", \"address\": \"Sideway 1633\"}\n",
      "{\"_id\": {\"$oid\": \"61a7c2b497a9de8a65e2035c\"}, \"name\": \"Julian\", \"address\": \"Montaneses 3150\"}\n"
     ]
    }
   ],
   "source": [
    "for u in User.objects.filter():\n",
    "    print(u.to_json())"
   ]
  },
  {
   "cell_type": "code",
   "execution_count": 18,
   "metadata": {},
   "outputs": [
    {
     "data": {
      "text/plain": [
       "14"
      ]
     },
     "execution_count": 18,
     "metadata": {},
     "output_type": "execute_result"
    }
   ],
   "source": [
    "User.objects.count()"
   ]
  },
  {
   "cell_type": "code",
   "execution_count": null,
   "metadata": {},
   "outputs": [],
   "source": []
  }
 ],
 "metadata": {
  "kernelspec": {
   "display_name": "Python 3",
   "language": "python",
   "name": "python3"
  },
  "language_info": {
   "codemirror_mode": {
    "name": "ipython",
    "version": 3
   },
   "file_extension": ".py",
   "mimetype": "text/x-python",
   "name": "python",
   "nbconvert_exporter": "python",
   "pygments_lexer": "ipython3",
   "version": "3.8.5"
  }
 },
 "nbformat": 4,
 "nbformat_minor": 4
}
