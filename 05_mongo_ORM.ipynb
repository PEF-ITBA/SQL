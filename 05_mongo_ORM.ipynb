{
 "cells": [
  {
   "cell_type": "code",
   "execution_count": 2,
   "metadata": {},
   "outputs": [],
   "source": [
    "# ! pip install mongoengine"
   ]
  },
  {
   "cell_type": "code",
   "execution_count": 1,
   "metadata": {},
   "outputs": [],
   "source": [
    "from mongoengine import connect"
   ]
  },
  {
   "cell_type": "code",
   "execution_count": 3,
   "metadata": {},
   "outputs": [],
   "source": [
    "db_name = 'db_test'"
   ]
  },
  {
   "cell_type": "code",
   "execution_count": 4,
   "metadata": {},
   "outputs": [
    {
     "data": {
      "text/plain": [
       "MongoClient(host=['localhost:27017'], document_class=dict, tz_aware=False, connect=True, read_preference=Primary())"
      ]
     },
     "execution_count": 4,
     "metadata": {},
     "output_type": "execute_result"
    }
   ],
   "source": [
    "connect(db_name, host='localhost', port=27017)"
   ]
  },
  {
   "cell_type": "code",
   "execution_count": 5,
   "metadata": {},
   "outputs": [],
   "source": [
    "from mongoengine import *\n",
    "import datetime\n",
    "\n",
    "class User(Document):\n",
    "    name = StringField(max_length=200, required=True)\n",
    "    address = StringField(max_length=200, required=True)\n",
    "    age = IntField()\n"
   ]
  },
  {
   "cell_type": "code",
   "execution_count": 6,
   "metadata": {},
   "outputs": [],
   "source": [
    "u = User(name='Julian', address='Montaneses 3150')"
   ]
  },
  {
   "cell_type": "code",
   "execution_count": 7,
   "metadata": {},
   "outputs": [
    {
     "data": {
      "text/plain": [
       "<User: User object>"
      ]
     },
     "execution_count": 7,
     "metadata": {},
     "output_type": "execute_result"
    }
   ],
   "source": [
    "u.save()"
   ]
  },
  {
   "cell_type": "code",
   "execution_count": 8,
   "metadata": {},
   "outputs": [
    {
     "name": "stdout",
     "output_type": "stream",
     "text": [
      "{\"_id\": {\"$oid\": \"61a7fa97445e934513727f20\"}, \"name\": \"John\", \"address\": \"Highway 37\", \"age\": 33}\n",
      "{\"_id\": {\"$oid\": \"61a7fab1445e934513727f21\"}, \"name\": \"Amy\", \"address\": \"Apple st 652\"}\n",
      "{\"_id\": {\"$oid\": \"61a7fab1445e934513727f22\"}, \"name\": \"Hannah\", \"address\": \"Mountain 21\"}\n",
      "{\"_id\": {\"$oid\": \"61a7fab1445e934513727f23\"}, \"name\": \"Michael\", \"address\": \"Valley 345\"}\n",
      "{\"_id\": {\"$oid\": \"61a7fab1445e934513727f24\"}, \"name\": \"Sandy\", \"address\": \"Ocean blvd 2\"}\n",
      "{\"_id\": {\"$oid\": \"61a7fab1445e934513727f25\"}, \"name\": \"Betty\", \"address\": \"Green Grass 1\"}\n",
      "{\"_id\": {\"$oid\": \"61a7fab1445e934513727f26\"}, \"name\": \"Richard\", \"address\": \"Sky st 331\"}\n",
      "{\"_id\": {\"$oid\": \"61a7fab1445e934513727f27\"}, \"name\": \"Susan\", \"address\": \"One way 98\"}\n",
      "{\"_id\": {\"$oid\": \"61a7fab1445e934513727f28\"}, \"name\": \"Vicky\", \"address\": \"Yellow Garden 2\"}\n",
      "{\"_id\": {\"$oid\": \"61a7fab1445e934513727f29\"}, \"name\": \"Ben\", \"address\": \"Park Lane 38\"}\n",
      "{\"_id\": {\"$oid\": \"61a7fab1445e934513727f2a\"}, \"name\": \"William\", \"address\": \"Central st 954\"}\n",
      "{\"_id\": {\"$oid\": \"61a7fab1445e934513727f2b\"}, \"name\": \"Chuck\", \"address\": \"Main Road 989\"}\n",
      "{\"_id\": {\"$oid\": \"61a7fab1445e934513727f2c\"}, \"name\": \"Viola\", \"address\": \"Sideway 1633\"}\n",
      "{\"_id\": {\"$oid\": \"61a7fad6445e934513727f2d\"}, \"name\": \"Amy\", \"address\": \"Apple st 652\"}\n",
      "{\"_id\": {\"$oid\": \"61a7fad6445e934513727f2e\"}, \"name\": \"Hannah\", \"address\": \"Mountain 21\"}\n",
      "{\"_id\": {\"$oid\": \"61a7fad6445e934513727f2f\"}, \"name\": \"Michael\", \"address\": \"Valley 345\"}\n",
      "{\"_id\": {\"$oid\": \"61a7fad6445e934513727f30\"}, \"name\": \"Sandy\", \"address\": \"Ocean blvd 2\"}\n",
      "{\"_id\": {\"$oid\": \"61a7fad6445e934513727f31\"}, \"name\": \"Betty\", \"address\": \"Green Grass 1\"}\n",
      "{\"_id\": {\"$oid\": \"61a7fad6445e934513727f32\"}, \"name\": \"Richard\", \"address\": \"Sky st 331\"}\n",
      "{\"_id\": {\"$oid\": \"61a7fad6445e934513727f33\"}, \"name\": \"Susan\", \"address\": \"One way 98\"}\n",
      "{\"_id\": {\"$oid\": \"61a7fad6445e934513727f34\"}, \"name\": \"Vicky\", \"address\": \"Yellow Garden 2\"}\n",
      "{\"_id\": {\"$oid\": \"61a7fad6445e934513727f35\"}, \"name\": \"Ben\", \"address\": \"Park Lane 38\"}\n",
      "{\"_id\": {\"$oid\": \"61a7fad6445e934513727f36\"}, \"name\": \"William\", \"address\": \"Central st 954\"}\n",
      "{\"_id\": {\"$oid\": \"61a7fad6445e934513727f37\"}, \"name\": \"Chuck\", \"address\": \"Main Road 989\"}\n",
      "{\"_id\": {\"$oid\": \"61a7fad6445e934513727f38\"}, \"name\": \"Viola\", \"address\": \"Sideway 1633\"}\n",
      "{\"_id\": {\"$oid\": \"61a7fb69445e934513727f39\"}, \"name\": \"Amy\", \"address\": \"Apple st 652\"}\n",
      "{\"_id\": {\"$oid\": \"61a7fb69445e934513727f3a\"}, \"name\": \"Hannah\", \"address\": \"Mountain 21\"}\n",
      "{\"_id\": {\"$oid\": \"61a7fb69445e934513727f3b\"}, \"name\": \"Michael\", \"address\": \"Valley 345\"}\n",
      "{\"_id\": {\"$oid\": \"61a7fb69445e934513727f3c\"}, \"name\": \"Sandy\", \"address\": \"Ocean blvd 2\"}\n",
      "{\"_id\": {\"$oid\": \"61a7fb69445e934513727f3d\"}, \"name\": \"Betty\", \"address\": \"Green Grass 1\"}\n",
      "{\"_id\": {\"$oid\": \"61a7fb69445e934513727f3e\"}, \"name\": \"Richard\", \"address\": \"Sky st 331\"}\n",
      "{\"_id\": {\"$oid\": \"61a7fb69445e934513727f3f\"}, \"name\": \"Susan\", \"address\": \"One way 98\"}\n",
      "{\"_id\": {\"$oid\": \"61a7fb69445e934513727f40\"}, \"name\": \"Vicky\", \"address\": \"Yellow Garden 2\"}\n",
      "{\"_id\": {\"$oid\": \"61a7fb69445e934513727f41\"}, \"name\": \"Ben\", \"address\": \"Park Lane 38\"}\n",
      "{\"_id\": {\"$oid\": \"61a7fb69445e934513727f42\"}, \"name\": \"William\", \"address\": \"Central st 954\"}\n",
      "{\"_id\": {\"$oid\": \"61a7fb69445e934513727f43\"}, \"name\": \"Chuck\", \"address\": \"Main Road 989\"}\n",
      "{\"_id\": {\"$oid\": \"61a7fb69445e934513727f44\"}, \"name\": \"Viola\", \"address\": \"Sideway 1633\"}\n",
      "{\"_id\": {\"$oid\": \"61a7fb69445e934513727f45\"}, \"name\": \"Viola\", \"address\": \"S\"}\n",
      "{\"_id\": {\"$oid\": \"61a800d90912149a9a6e9dde\"}, \"name\": \"Julian\", \"address\": \"Montaneses 3150\"}\n"
     ]
    }
   ],
   "source": [
    "for u in User.objects.filter():\n",
    "    print(u.to_json())"
   ]
  },
  {
   "cell_type": "code",
   "execution_count": 9,
   "metadata": {},
   "outputs": [
    {
     "data": {
      "text/plain": [
       "39"
      ]
     },
     "execution_count": 9,
     "metadata": {},
     "output_type": "execute_result"
    }
   ],
   "source": [
    "User.objects.count()"
   ]
  },
  {
   "cell_type": "code",
   "execution_count": null,
   "metadata": {},
   "outputs": [],
   "source": []
  }
 ],
 "metadata": {
  "kernelspec": {
   "display_name": "Python 3",
   "language": "python",
   "name": "python3"
  },
  "language_info": {
   "codemirror_mode": {
    "name": "ipython",
    "version": 3
   },
   "file_extension": ".py",
   "mimetype": "text/x-python",
   "name": "python",
   "nbconvert_exporter": "python",
   "pygments_lexer": "ipython3",
   "version": "3.8.5"
  }
 },
 "nbformat": 4,
 "nbformat_minor": 4
}
