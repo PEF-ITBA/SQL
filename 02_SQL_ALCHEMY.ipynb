{
 "cells": [
  {
   "cell_type": "code",
   "execution_count": 3,
   "metadata": {},
   "outputs": [
    {
     "name": "stdout",
     "output_type": "stream",
     "text": [
      "Collecting sqlalchemy\n",
      "  Using cached SQLAlchemy-1.4.27-cp38-cp38-macosx_10_14_x86_64.whl (1.5 MB)\n",
      "Collecting greenlet!=0.4.17; python_version >= \"3\" and (platform_machine == \"aarch64\" or (platform_machine == \"ppc64le\" or (platform_machine == \"x86_64\" or (platform_machine == \"amd64\" or (platform_machine == \"AMD64\" or (platform_machine == \"win32\" or platform_machine == \"WIN32\"))))))\n",
      "  Using cached greenlet-1.1.2-cp38-cp38-macosx_10_14_x86_64.whl (92 kB)\n",
      "Installing collected packages: greenlet, sqlalchemy\n",
      "Successfully installed greenlet-1.1.2 sqlalchemy-1.4.27\n"
     ]
    }
   ],
   "source": [
    "# ! pip install sqlalchemy"
   ]
  },
  {
   "cell_type": "code",
   "execution_count": 1,
   "metadata": {},
   "outputs": [],
   "source": [
    "from sqlalchemy import create_engine"
   ]
  },
  {
   "cell_type": "code",
   "execution_count": 2,
   "metadata": {},
   "outputs": [
    {
     "name": "stdout",
     "output_type": "stream",
     "text": [
      "/Users/julian/Documents/repos/SQL\n"
     ]
    }
   ],
   "source": [
    "! pwd"
   ]
  },
  {
   "cell_type": "code",
   "execution_count": 3,
   "metadata": {},
   "outputs": [],
   "source": [
    "eng = create_engine('sqlite:////Users/julian/Documents/repos/SQL/data/sqlite3/test.db')"
   ]
  },
  {
   "cell_type": "code",
   "execution_count": 4,
   "metadata": {},
   "outputs": [],
   "source": [
    "con = eng.connect()"
   ]
  },
  {
   "cell_type": "code",
   "execution_count": 5,
   "metadata": {},
   "outputs": [
    {
     "name": "stdout",
     "output_type": "stream",
     "text": [
      "(5, 'Paul', 'California', 20000.0)\n",
      "(6, 'Allen', 'Texas', 2000.0)\n",
      "(7, 'Teddy', 'Norway', 20000.0)\n",
      "(8, 'Mark', 'Rich-Mond ', 65000.0)\n"
     ]
    }
   ],
   "source": [
    "for e in con.execute(\"SELECT id, name, address, salary from COMPANY\"):\n",
    "    print(e)"
   ]
  },
  {
   "cell_type": "code",
   "execution_count": 6,
   "metadata": {},
   "outputs": [],
   "source": [
    "from sqlalchemy.sql import select "
   ]
  },
  {
   "cell_type": "code",
   "execution_count": 7,
   "metadata": {},
   "outputs": [],
   "source": [
    "# select(columns=['name'], from_obj='COMPANY')"
   ]
  },
  {
   "cell_type": "markdown",
   "metadata": {},
   "source": [
    "# Creacion de tabla"
   ]
  },
  {
   "cell_type": "code",
   "execution_count": 8,
   "metadata": {},
   "outputs": [],
   "source": [
    "from sqlalchemy import (create_engine, Table, Column, Integer, \n",
    "    String, MetaData)\n",
    "    \n",
    "meta = MetaData()\n",
    "cars = Table('Cars', meta,\n",
    "     Column('Id', Integer, primary_key=True),\n",
    "     Column('Name', String),\n",
    "     Column('Price', Integer)\n",
    ")"
   ]
  },
  {
   "cell_type": "code",
   "execution_count": 9,
   "metadata": {},
   "outputs": [
    {
     "data": {
      "text/plain": [
       "Table('Cars', MetaData(), Column('Id', Integer(), table=<Cars>, primary_key=True, nullable=False), Column('Name', String(), table=<Cars>), Column('Price', Integer(), table=<Cars>), schema=None)"
      ]
     },
     "execution_count": 9,
     "metadata": {},
     "output_type": "execute_result"
    }
   ],
   "source": [
    "cars"
   ]
  },
  {
   "cell_type": "code",
   "execution_count": 10,
   "metadata": {},
   "outputs": [
    {
     "data": {
      "text/plain": [
       "[Column('Id', Integer(), table=<Cars>, primary_key=True, nullable=False),\n",
       " Column('Name', String(), table=<Cars>),\n",
       " Column('Price', Integer(), table=<Cars>)]"
      ]
     },
     "execution_count": 10,
     "metadata": {},
     "output_type": "execute_result"
    }
   ],
   "source": [
    "list(cars.c)"
   ]
  },
  {
   "cell_type": "code",
   "execution_count": 11,
   "metadata": {},
   "outputs": [
    {
     "data": {
      "text/plain": [
       "PrimaryKeyConstraint(Column('Id', Integer(), table=<Cars>, primary_key=True, nullable=False))"
      ]
     },
     "execution_count": 11,
     "metadata": {},
     "output_type": "execute_result"
    }
   ],
   "source": [
    "cars.primary_key"
   ]
  },
  {
   "cell_type": "markdown",
   "metadata": {},
   "source": [
    "# Inserts"
   ]
  },
  {
   "cell_type": "code",
   "execution_count": 12,
   "metadata": {},
   "outputs": [],
   "source": [
    "con.execute('DROP TABLE IF EXISTS Cars')\n",
    "con.execute('''CREATE TABLE Cars(Id INTEGER PRIMARY KEY, \n",
    "             Name TEXT, Price INTEGER)''')\n",
    "\n",
    "data = ( { \"Id\": 1, \"Name\": \"Audi\", \"Price\": 52642 },\n",
    "         { \"Id\": 2, \"Name\": \"Mercedes\", \"Price\": 57127 },\n",
    "         { \"Id\": 3, \"Name\": \"Skoda\", \"Price\": 9000 },\n",
    "         { \"Id\": 4, \"Name\": \"Volvo\", \"Price\": 29000 },\n",
    "         { \"Id\": 5, \"Name\": \"Bentley\", \"Price\": 350000 },\n",
    "         { \"Id\": 6, \"Name\": \"Citroen\", \"Price\": 21000 },\n",
    "         { \"Id\": 7, \"Name\": \"Hummer\", \"Price\": 41400 },\n",
    "         { \"Id\": 8, \"Name\": \"Volkswagen\", \"Price\": 21600 })"
   ]
  },
  {
   "cell_type": "code",
   "execution_count": 13,
   "metadata": {},
   "outputs": [],
   "source": [
    "for line in data:\n",
    "    con.execute(\"\"\"INSERT INTO Cars(Id, Name, Price) \n",
    "        VALUES(:Id, :Name, :Price)\"\"\", **line)"
   ]
  },
  {
   "cell_type": "code",
   "execution_count": 14,
   "metadata": {},
   "outputs": [
    {
     "name": "stdout",
     "output_type": "stream",
     "text": [
      "(1, 'Audi', 52642)\n",
      "(2, 'Mercedes', 57127)\n",
      "(3, 'Skoda', 9000)\n",
      "(4, 'Volvo', 29000)\n",
      "(5, 'Bentley', 350000)\n",
      "(6, 'Citroen', 21000)\n",
      "(7, 'Hummer', 41400)\n",
      "(8, 'Volkswagen', 21600)\n"
     ]
    }
   ],
   "source": [
    "for e in con.execute(\"SELECT id, Name, Price from Cars\"):\n",
    "    print(e)"
   ]
  },
  {
   "cell_type": "markdown",
   "metadata": {},
   "source": [
    "# Select"
   ]
  },
  {
   "cell_type": "code",
   "execution_count": 15,
   "metadata": {},
   "outputs": [],
   "source": [
    "from sqlalchemy.sql import select    \n",
    "from sqlalchemy.sql import text"
   ]
  },
  {
   "cell_type": "code",
   "execution_count": 16,
   "metadata": {},
   "outputs": [],
   "source": [
    "stm = select(columns=[text('Name'), text('Price')], from_obj=cars)\n",
    "stm = select([cars])\n",
    "rs = con.execute(stm) "
   ]
  },
  {
   "cell_type": "code",
   "execution_count": 17,
   "metadata": {},
   "outputs": [
    {
     "name": "stdout",
     "output_type": "stream",
     "text": [
      "(1, 'Audi', 52642)\n",
      "(2, 'Mercedes', 57127)\n",
      "(3, 'Skoda', 9000)\n",
      "(4, 'Volvo', 29000)\n",
      "(5, 'Bentley', 350000)\n",
      "(6, 'Citroen', 21000)\n",
      "(7, 'Hummer', 41400)\n",
      "(8, 'Volkswagen', 21600)\n"
     ]
    }
   ],
   "source": [
    "for e in rs:\n",
    "    print(e)"
   ]
  },
  {
   "cell_type": "code",
   "execution_count": null,
   "metadata": {},
   "outputs": [],
   "source": []
  }
 ],
 "metadata": {
  "kernelspec": {
   "display_name": "Python 3",
   "language": "python",
   "name": "python3"
  },
  "language_info": {
   "codemirror_mode": {
    "name": "ipython",
    "version": 3
   },
   "file_extension": ".py",
   "mimetype": "text/x-python",
   "name": "python",
   "nbconvert_exporter": "python",
   "pygments_lexer": "ipython3",
   "version": "3.8.5"
  }
 },
 "nbformat": 4,
 "nbformat_minor": 4
}
