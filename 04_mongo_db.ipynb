{
 "cells": [
  {
   "cell_type": "code",
   "execution_count": 1,
   "metadata": {},
   "outputs": [],
   "source": [
    "# Instalación sin docker\n",
    "# En mac\n",
    "# brew tap mongodb/brew\n",
    "# brew install mongodb-community\n",
    "# brew services start mongodb/brew/mongodb-community\n",
    "#\n",
    "# En ubuntu\n",
    "# https://hevodata.com/blog/install-mongodb-on-ubuntu/\n",
    "#\n",
    "# En windows\n",
    "# https://docs.mongodb.com/manual/tutorial/install-mongodb-on-windows/\n",
    "\n",
    "\n"
   ]
  },
  {
   "cell_type": "markdown",
   "metadata": {},
   "source": [
    "# Instalación con docker\n",
    "docker pull mongo\n",
    "\n",
    "docker run -v /Users/julian/Documents/repos/SQL/data/mongo:/data/db -p 27017:27017 mongo\n"
   ]
  },
  {
   "cell_type": "code",
   "execution_count": 2,
   "metadata": {},
   "outputs": [],
   "source": [
    "# Libreria\n",
    "# ! pip install pymongo"
   ]
  },
  {
   "cell_type": "code",
   "execution_count": 8,
   "metadata": {},
   "outputs": [],
   "source": [
    "import pymongo\n",
    "\n",
    "myclient = pymongo.MongoClient(\"mongodb://localhost:27017/\")\n",
    "\n",
    "db_name = 'db_test'\n",
    "mydb = myclient[db_name]"
   ]
  },
  {
   "cell_type": "code",
   "execution_count": 9,
   "metadata": {},
   "outputs": [],
   "source": [
    "myclient.drop_database(db_name)"
   ]
  },
  {
   "cell_type": "code",
   "execution_count": 10,
   "metadata": {},
   "outputs": [
    {
     "name": "stdout",
     "output_type": "stream",
     "text": [
      "['admin', 'config', 'local']\n"
     ]
    }
   ],
   "source": [
    "print(myclient.list_database_names())"
   ]
  },
  {
   "cell_type": "code",
   "execution_count": 15,
   "metadata": {},
   "outputs": [
    {
     "name": "stdout",
     "output_type": "stream",
     "text": [
      "['user']\n"
     ]
    }
   ],
   "source": [
    "print(mydb.list_collection_names())"
   ]
  },
  {
   "cell_type": "code",
   "execution_count": 12,
   "metadata": {},
   "outputs": [],
   "source": [
    "mydict = { \"name\": \"John\", \"address\": \"Highway 37\", \"age\": 33}"
   ]
  },
  {
   "cell_type": "code",
   "execution_count": 13,
   "metadata": {},
   "outputs": [
    {
     "data": {
      "text/plain": [
       "<pymongo.results.InsertOneResult at 0x7ffe7b6c3dc0>"
      ]
     },
     "execution_count": 13,
     "metadata": {},
     "output_type": "execute_result"
    }
   ],
   "source": [
    "# No estructurada\n",
    "mydb.user.insert_one(mydict)"
   ]
  },
  {
   "cell_type": "code",
   "execution_count": 27,
   "metadata": {},
   "outputs": [
    {
     "name": "stdout",
     "output_type": "stream",
     "text": [
      "['user']\n"
     ]
    }
   ],
   "source": [
    "print(mydb.list_collection_names())"
   ]
  },
  {
   "cell_type": "code",
   "execution_count": 16,
   "metadata": {},
   "outputs": [],
   "source": [
    "mylist = [\n",
    "  { \"name\": \"Amy\", \"address\": \"Apple st 652\"},\n",
    "  { \"name\": \"Hannah\", \"address\": \"Mountain 21\"},\n",
    "  { \"name\": \"Michael\", \"address\": \"Valley 345\"},\n",
    "  { \"name\": \"Sandy\", \"address\": \"Ocean blvd 2\"},\n",
    "  { \"name\": \"Betty\", \"address\": \"Green Grass 1\"},\n",
    "  { \"name\": \"Richard\", \"address\": \"Sky st 331\"},\n",
    "  { \"name\": \"Susan\", \"address\": \"One way 98\"},\n",
    "  { \"name\": \"Vicky\", \"address\": \"Yellow Garden 2\"},\n",
    "  { \"name\": \"Ben\", \"address\": \"Park Lane 38\"},\n",
    "  { \"name\": \"William\", \"address\": \"Central st 954\"},\n",
    "  { \"name\": \"Chuck\", \"address\": \"Main Road 989\"},\n",
    "  { \"name\": \"Viola\", \"address\": \"Sideway 1633\"}\n",
    "]\n",
    "\n",
    "x = mydb.user.insert_many(mylist)"
   ]
  },
  {
   "cell_type": "code",
   "execution_count": 36,
   "metadata": {},
   "outputs": [
    {
     "data": {
      "text/plain": [
       "13"
      ]
     },
     "execution_count": 36,
     "metadata": {},
     "output_type": "execute_result"
    }
   ],
   "source": [
    "mydb.user.count_documents({})"
   ]
  },
  {
   "cell_type": "code",
   "execution_count": 37,
   "metadata": {},
   "outputs": [
    {
     "name": "stdout",
     "output_type": "stream",
     "text": [
      "{'_id': ObjectId('61a7c06a294c308a57ba454c'), 'name': 'John', 'address': 'Highway 37', 'age': 33}\n",
      "{'_id': ObjectId('61a7c07a294c308a57ba454d'), 'name': 'Amy', 'address': 'Apple st 652'}\n",
      "{'_id': ObjectId('61a7c07a294c308a57ba454e'), 'name': 'Hannah', 'address': 'Mountain 21'}\n",
      "{'_id': ObjectId('61a7c07a294c308a57ba454f'), 'name': 'Michael', 'address': 'Valley 345'}\n",
      "{'_id': ObjectId('61a7c07a294c308a57ba4550'), 'name': 'Sandy', 'address': 'Ocean blvd 2'}\n",
      "{'_id': ObjectId('61a7c07a294c308a57ba4551'), 'name': 'Betty', 'address': 'Green Grass 1'}\n",
      "{'_id': ObjectId('61a7c07a294c308a57ba4552'), 'name': 'Richard', 'address': 'Sky st 331'}\n",
      "{'_id': ObjectId('61a7c07a294c308a57ba4553'), 'name': 'Susan', 'address': 'One way 98'}\n",
      "{'_id': ObjectId('61a7c07a294c308a57ba4554'), 'name': 'Vicky', 'address': 'Yellow Garden 2'}\n",
      "{'_id': ObjectId('61a7c07a294c308a57ba4555'), 'name': 'Ben', 'address': 'Park Lane 38'}\n",
      "{'_id': ObjectId('61a7c07a294c308a57ba4556'), 'name': 'William', 'address': 'Central st 954'}\n",
      "{'_id': ObjectId('61a7c07a294c308a57ba4557'), 'name': 'Chuck', 'address': 'Main Road 989'}\n",
      "{'_id': ObjectId('61a7c07a294c308a57ba4558'), 'name': 'Viola', 'address': 'Sideway 1633'}\n"
     ]
    }
   ],
   "source": [
    "for u in mydb.user.find():\n",
    "    print(u)"
   ]
  },
  {
   "cell_type": "code",
   "execution_count": 39,
   "metadata": {},
   "outputs": [
    {
     "name": "stdout",
     "output_type": "stream",
     "text": [
      "{'_id': ObjectId('61a7c06a294c308a57ba454c'), 'name': 'John', 'address': 'Highway 37', 'age': 33}\n"
     ]
    }
   ],
   "source": [
    "for u in mydb.user.find({'name': 'John'}):\n",
    "    print(u)"
   ]
  },
  {
   "cell_type": "code",
   "execution_count": 40,
   "metadata": {},
   "outputs": [
    {
     "name": "stdout",
     "output_type": "stream",
     "text": [
      "{'name': 'John', 'age': 33}\n",
      "{'name': 'Amy'}\n",
      "{'name': 'Hannah'}\n",
      "{'name': 'Michael'}\n",
      "{'name': 'Sandy'}\n",
      "{'name': 'Betty'}\n",
      "{'name': 'Richard'}\n",
      "{'name': 'Susan'}\n",
      "{'name': 'Vicky'}\n",
      "{'name': 'Ben'}\n",
      "{'name': 'William'}\n",
      "{'name': 'Chuck'}\n",
      "{'name': 'Viola'}\n"
     ]
    }
   ],
   "source": [
    "for u in mydb.user.find({}, { \"_id\": False, \"address\": False}):\n",
    "    print(u)"
   ]
  },
  {
   "cell_type": "code",
   "execution_count": 42,
   "metadata": {},
   "outputs": [
    {
     "name": "stdout",
     "output_type": "stream",
     "text": [
      "{'_id': ObjectId('61a7c07a294c308a57ba454f'), 'name': 'Michael', 'address': 'Valley 345'}\n",
      "{'_id': ObjectId('61a7c07a294c308a57ba4552'), 'name': 'Richard', 'address': 'Sky st 331'}\n",
      "{'_id': ObjectId('61a7c07a294c308a57ba4554'), 'name': 'Vicky', 'address': 'Yellow Garden 2'}\n",
      "{'_id': ObjectId('61a7c07a294c308a57ba4558'), 'name': 'Viola', 'address': 'Sideway 1633'}\n"
     ]
    }
   ],
   "source": [
    "myquery = { \"address\": { \"$gt\": \"S\" } }\n",
    "\n",
    "mydoc = mydb.user.find(myquery)\n",
    "\n",
    "for x in mydoc:\n",
    "  print(x)"
   ]
  },
  {
   "cell_type": "code",
   "execution_count": 99,
   "metadata": {},
   "outputs": [],
   "source": [
    "# mydb.users.drop()"
   ]
  },
  {
   "cell_type": "code",
   "execution_count": null,
   "metadata": {},
   "outputs": [],
   "source": []
  }
 ],
 "metadata": {
  "kernelspec": {
   "display_name": "Python 3",
   "language": "python",
   "name": "python3"
  },
  "language_info": {
   "codemirror_mode": {
    "name": "ipython",
    "version": 3
   },
   "file_extension": ".py",
   "mimetype": "text/x-python",
   "name": "python",
   "nbconvert_exporter": "python",
   "pygments_lexer": "ipython3",
   "version": "3.8.5"
  }
 },
 "nbformat": 4,
 "nbformat_minor": 4
}
